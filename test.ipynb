{
 "cells": [
  {
   "cell_type": "code",
   "execution_count": null,
   "metadata": {},
   "outputs": [],
   "source": [
    "import wfdb\n",
    "import matplotlib.pyplot as plt\n",
    "import numpy as np\n",
    "\n",
    "def beat_annotations(annotation):\n",
    "    \"\"\" Get rid of non-beat markers \"\"\"\n",
    "    \"\"\"'N' for normal beats. Similarly we can give the input 'L' for left bundle branch block beats. 'R' for right bundle branch block\n",
    "        beats. 'A' for Atrial premature contraction. 'V' for ventricular premature contraction. '/' for paced beat. 'E' for Ventricular\n",
    "        escape beat.\"\"\"\n",
    "    \n",
    "    good = ['N']   \n",
    "    ids = np.in1d(annotation.symbol, good)\n",
    "\n",
    "    # We want to know only the positions\n",
    "    beats = annotation.sample[ids]\n",
    "\n",
    "    return beats\n",
    "\n",
    "\n",
    "\n",
    "records =open(\".\\mit-bih-arrhythmia-database-1.0.0/RECORDS\")\n",
    "listeFichier = records.readlines()\n",
    "records.close()\n",
    "for fichier in listeFichier:\n",
    "    sig, fields = wfdb.rdsamp('.\\mit-bih-arrhythmia-database-1.0.0/'+fichier[0:-1])"
   ]
  }
 ],
 "metadata": {
  "kernelspec": {
   "display_name": "Python 3",
   "language": "python",
   "name": "python3"
  },
  "language_info": {
   "codemirror_mode": {
    "name": "ipython",
    "version": 3
   },
   "file_extension": ".py",
   "mimetype": "text/x-python",
   "name": "python",
   "nbconvert_exporter": "python",
   "pygments_lexer": "ipython3",
   "version": "3.7.1"
  }
 },
 "nbformat": 4,
 "nbformat_minor": 2
}
