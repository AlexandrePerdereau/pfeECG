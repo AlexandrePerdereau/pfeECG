{
  "nbformat": 4,
  "nbformat_minor": 0,
  "metadata": {
    "kernelspec": {
      "name": "python3",
      "display_name": "Python 3"
    },
    "language_info": {
      "codemirror_mode": {
        "name": "ipython",
        "version": 3
      },
      "file_extension": ".py",
      "mimetype": "text/x-python",
      "name": "python",
      "nbconvert_exporter": "python",
      "pygments_lexer": "ipython3",
      "version": "3.7.1"
    },
    "colab": {
      "name": "PFE.ipynb",
      "provenance": [],
      "collapsed_sections": [],
      "machine_shape": "hm"
    },
    "accelerator": "GPU"
  },
  "cells": [
    {
      "cell_type": "code",
      "metadata": {
        "id": "PJw9g1qVONO7",
        "colab_type": "code",
        "outputId": "ef9eb15d-1e1e-428a-f7ae-3bd431a2562c",
        "colab": {
          "base_uri": "https://localhost:8080/",
          "height": 390
        }
      },
      "source": [
        "\n",
        "from IPython.display import display\n",
        "import matplotlib.pyplot as plt\n",
        "import numpy as np\n",
        "import os\n",
        "import shutil\n",
        "import torch\n",
        "from torch.utils.data import Dataset, DataLoader\n",
        "import random as rd\n",
        "import cv2\n",
        "import gc\n",
        "import random\n",
        "\n",
        "\n",
        "!pip install wfdb\n",
        "import wfdb"
      ],
      "execution_count": 1,
      "outputs": [
        {
          "output_type": "stream",
          "text": [
            "Requirement already satisfied: wfdb in /usr/local/lib/python3.6/dist-packages (2.2.1)\n",
            "Requirement already satisfied: nose>=1.3.7 in /usr/local/lib/python3.6/dist-packages (from wfdb) (1.3.7)\n",
            "Requirement already satisfied: requests>=2.10.0 in /usr/local/lib/python3.6/dist-packages (from wfdb) (2.21.0)\n",
            "Requirement already satisfied: numpy>=1.11.0 in /usr/local/lib/python3.6/dist-packages (from wfdb) (1.17.4)\n",
            "Requirement already satisfied: pandas>=0.19.1 in /usr/local/lib/python3.6/dist-packages (from wfdb) (0.25.3)\n",
            "Requirement already satisfied: sklearn>=0.0 in /usr/local/lib/python3.6/dist-packages (from wfdb) (0.0)\n",
            "Requirement already satisfied: matplotlib>=1.5.1 in /usr/local/lib/python3.6/dist-packages (from wfdb) (3.1.1)\n",
            "Requirement already satisfied: scipy>=0.19.0 in /usr/local/lib/python3.6/dist-packages (from wfdb) (1.3.2)\n",
            "Requirement already satisfied: chardet<3.1.0,>=3.0.2 in /usr/local/lib/python3.6/dist-packages (from requests>=2.10.0->wfdb) (3.0.4)\n",
            "Requirement already satisfied: idna<2.9,>=2.5 in /usr/local/lib/python3.6/dist-packages (from requests>=2.10.0->wfdb) (2.8)\n",
            "Requirement already satisfied: urllib3<1.25,>=1.21.1 in /usr/local/lib/python3.6/dist-packages (from requests>=2.10.0->wfdb) (1.24.3)\n",
            "Requirement already satisfied: certifi>=2017.4.17 in /usr/local/lib/python3.6/dist-packages (from requests>=2.10.0->wfdb) (2019.9.11)\n",
            "Requirement already satisfied: pytz>=2017.2 in /usr/local/lib/python3.6/dist-packages (from pandas>=0.19.1->wfdb) (2018.9)\n",
            "Requirement already satisfied: python-dateutil>=2.6.1 in /usr/local/lib/python3.6/dist-packages (from pandas>=0.19.1->wfdb) (2.6.1)\n",
            "Requirement already satisfied: scikit-learn in /usr/local/lib/python3.6/dist-packages (from sklearn>=0.0->wfdb) (0.21.3)\n",
            "Requirement already satisfied: pyparsing!=2.0.4,!=2.1.2,!=2.1.6,>=2.0.1 in /usr/local/lib/python3.6/dist-packages (from matplotlib>=1.5.1->wfdb) (2.4.5)\n",
            "Requirement already satisfied: kiwisolver>=1.0.1 in /usr/local/lib/python3.6/dist-packages (from matplotlib>=1.5.1->wfdb) (1.1.0)\n",
            "Requirement already satisfied: cycler>=0.10 in /usr/local/lib/python3.6/dist-packages (from matplotlib>=1.5.1->wfdb) (0.10.0)\n",
            "Requirement already satisfied: six>=1.5 in /usr/local/lib/python3.6/dist-packages (from python-dateutil>=2.6.1->pandas>=0.19.1->wfdb) (1.12.0)\n",
            "Requirement already satisfied: joblib>=0.11 in /usr/local/lib/python3.6/dist-packages (from scikit-learn->sklearn>=0.0->wfdb) (0.14.0)\n",
            "Requirement already satisfied: setuptools in /usr/local/lib/python3.6/dist-packages (from kiwisolver>=1.0.1->matplotlib>=1.5.1->wfdb) (41.6.0)\n"
          ],
          "name": "stdout"
        }
      ]
    },
    {
      "cell_type": "code",
      "metadata": {
        "id": "iPKBPyRePGjk",
        "colab_type": "code",
        "outputId": "f531117f-181b-4012-fc27-ddcb804023f1",
        "colab": {
          "base_uri": "https://localhost:8080/",
          "height": 35
        }
      },
      "source": [
        "!git clone https://github.com/AlexandrePerdereau/pfeECG.git"
      ],
      "execution_count": 2,
      "outputs": [
        {
          "output_type": "stream",
          "text": [
            "fatal: destination path 'pfeECG' already exists and is not an empty directory.\n"
          ],
          "name": "stdout"
        }
      ]
    },
    {
      "cell_type": "code",
      "metadata": {
        "id": "YhU2lDliONO_",
        "colab_type": "code",
        "colab": {}
      },
      "source": [
        "directory = 'pfeECG/mit-bih-arrhythmia-database-1.0.0/'\n",
        "file = open(directory + 'RECORDS')\n",
        "records = file.readlines()\n",
        "file.close()"
      ],
      "execution_count": 0,
      "outputs": []
    },
    {
      "cell_type": "code",
      "metadata": {
        "id": "X8AiL5NBONPB",
        "colab_type": "code",
        "outputId": "2598a91d-5760-4a7c-b422-4f3eedea3ca0",
        "colab": {
          "base_uri": "https://localhost:8080/",
          "height": 746
        }
      },
      "source": [
        "wfdb.show_ann_labels()"
      ],
      "execution_count": 4,
      "outputs": [
        {
          "output_type": "stream",
          "text": [
            "    label_store symbol                                    description\n",
            "0             0                              Not an actual annotation\n",
            "1             1      N                                    Normal beat\n",
            "2             2      L                  Left bundle branch block beat\n",
            "3             3      R                 Right bundle branch block beat\n",
            "4             4      a                Aberrated atrial premature beat\n",
            "5             5      V              Premature ventricular contraction\n",
            "6             6      F          Fusion of ventricular and normal beat\n",
            "7             7      J              Nodal (junctional) premature beat\n",
            "8             8      A                   Atrial premature contraction\n",
            "9             9      S     Premature or ectopic supraventricular beat\n",
            "10           10      E                        Ventricular escape beat\n",
            "11           11      j                 Nodal (junctional) escape beat\n",
            "12           12      /                                     Paced beat\n",
            "13           13      Q                            Unclassifiable beat\n",
            "14           14      ~                          Signal quality change\n",
            "16           16      |                     Isolated QRS-like artifact\n",
            "18           18      s                                      ST change\n",
            "19           19      T                                  T-wave change\n",
            "20           20      *                                        Systole\n",
            "21           21      D                                       Diastole\n",
            "22           22      \"                             Comment annotation\n",
            "23           23      =                         Measurement annotation\n",
            "24           24      p                                    P-wave peak\n",
            "25           25      B              Left or right bundle branch block\n",
            "26           26      ^                      Non-conducted pacer spike\n",
            "27           27      t                                    T-wave peak\n",
            "28           28      +                                  Rhythm change\n",
            "29           29      u                                    U-wave peak\n",
            "30           30      ?                                       Learning\n",
            "31           31      !                       Ventricular flutter wave\n",
            "32           32      [      Start of ventricular flutter/fibrillation\n",
            "33           33      ]        End of ventricular flutter/fibrillation\n",
            "34           34      e                             Atrial escape beat\n",
            "35           35      n                   Supraventricular escape beat\n",
            "36           36      @  Link to external data (aux_note contains URL)\n",
            "37           37      x             Non-conducted P-wave (blocked APB)\n",
            "38           38      f                Fusion of paced and normal beat\n",
            "39           39      (                                 Waveform onset\n",
            "40           40      )                                   Waveform end\n",
            "41           41      r       R-on-T premature ventricular contraction\n"
          ],
          "name": "stdout"
        }
      ]
    },
    {
      "cell_type": "code",
      "metadata": {
        "id": "jTduoWoCONPE",
        "colab_type": "code",
        "colab": {}
      },
      "source": [
        "tailleMax = 0"
      ],
      "execution_count": 0,
      "outputs": []
    },
    {
      "cell_type": "code",
      "metadata": {
        "id": "NPwAfJQ3ONPF",
        "colab_type": "code",
        "colab": {}
      },
      "source": [
        "def segmentation(typeBeat):\n",
        "\n",
        "    liste1,liste2 = [],[]\n",
        "\n",
        "    for e in records:\n",
        "        signals, fields = wfdb.rdsamp(directory + e[0:-1]) \n",
        "\n",
        "        ann = wfdb.rdann(directory + e[0:-1], 'atr')\n",
        "       \n",
        "        ids = np.in1d(ann.symbol, typeBeat)\n",
        "        imp_beats = ann.sample[ids]\n",
        "        beats = (ann.sample)\n",
        "        for i in imp_beats:\n",
        "            beats = list(beats)\n",
        "            j = beats.index(i)\n",
        "            if(j!=0 and j!=(len(beats)-1)):\n",
        "                x = beats[j-1]\n",
        "                y = beats[j+1]\n",
        "                diff1 = abs(x - beats[j])//2\n",
        "                diff2 = abs(y - beats[j])//2\n",
        "                signal0 = signals[beats[j] - diff1: beats[j] + diff2, 0]\n",
        "                signal1 = signals[beats[j] - diff1: beats[j] + diff2, 1]\n",
        "                \n",
        "                #indMax = signal0.index(np.max(np.abs(signal0)))\n",
        "                #indMax = np.where(np.abs(signal0) == np.max(np.abs(signal0)))\n",
        "                #indMid = int(len(signal0)//2)\n",
        "                #shift = indMax[0] - indMid\n",
        "                \n",
        "                #signal0 = np.roll(signal0, -shift)\n",
        "                #signal1 = np.roll(signal1, -shift)\n",
        "                \n",
        "                #print(shift)\n",
        "                #if shift > 0:\n",
        "                 #   signal0 = np.roll(signal0, -shift)\n",
        "                #elif shift < 0:\n",
        "                 #   signal0 = np.roll(signal0, -shift)\n",
        "                \n",
        "                liste1.append(signal0)\n",
        "                liste2.append(signal1)\n",
        "\n",
        "    #liste1 = liste1[1:] \n",
        "    #liste2 = liste2[1:]\n",
        "    return liste1,liste2"
      ],
      "execution_count": 0,
      "outputs": []
    },
    {
      "cell_type": "code",
      "metadata": {
        "id": "vyPthmR5ONPH",
        "colab_type": "code",
        "colab": {}
      },
      "source": [
        "def padding(signal,lmax):\n",
        "    signal0Padded = []\n",
        "    signal1Padded = []\n",
        "    for s0, s1 in list(zip(signal[0], signal[1])):\n",
        "      length = len(s0)\n",
        "      shift = (lmax - length)//2\n",
        "      signal0Padded.append(np.pad(s0, (shift, shift), 'constant'))\n",
        "      signal1Padded.append(np.pad(s1, (shift, shift), 'constant'))\n",
        "    signalPadded = (signal0Padded,signal1Padded)\n",
        "    return signalPadded"
      ],
      "execution_count": 0,
      "outputs": []
    },
    {
      "cell_type": "code",
      "metadata": {
        "id": "SKlhCoPWONPZ",
        "colab_type": "code",
        "colab": {}
      },
      "source": [
        "class ECGDataset(Dataset):\n",
        "\n",
        "    def __init__(self, Dir):\n",
        "        \n",
        "        file = open(Dir+'RECORDS')\n",
        "        records = file.readlines()\n",
        "        file.close()\n",
        "        \n",
        "        good = ['N']\n",
        "        leftBundleBlocks = ['L']\n",
        "        rightBundleBlocks = ['R']\n",
        "        atrialContraction = ['A']\n",
        "        ventricularContraction = ['V']\n",
        "        paced = ['/']\n",
        "        ventricularEscape = ['E']\n",
        "       # ventricularFlutterWave = ['!']\n",
        "        \n",
        "        NORMAL = segmentation(good)\n",
        "        indexes = [i for i in range(len(NORMAL[0]))]\n",
        "        #random.shuffle(NORMAL[0],NORMAL[1])\n",
        "        #random.shuffle(NORMAL[1])\n",
        "        #normal0 = NORMAL[0][0:10000]\n",
        "        #normal1 = NORMAL[1][0:10000]\n",
        "       # NORMAL = (normal0,normal1)\n",
        "        \n",
        "        random.shuffle(indexes)\n",
        "        \n",
        "        NORMALred = [tuple() for i in range(10000)]\n",
        "\n",
        "        for i in range(10000):\n",
        "          \n",
        "          normal0 = NORMAL[0][indexes[i]]\n",
        "          normal1 = NORMAL[1][indexes[i]]\n",
        "          NORMALred[i] = (normal0,normal1)\n",
        "       \n",
        "        NORMALredt = np.transpose(NORMALred) \n",
        "        LBB = segmentation(leftBundleBlocks)\n",
        "        RBB = segmentation(rightBundleBlocks)\n",
        "        APC = segmentation(atrialContraction)\n",
        "        PVC = segmentation(ventricularContraction)\n",
        "        VEB = segmentation(ventricularEscape)\n",
        "        PAB = segmentation(paced)\n",
        "\n",
        "        \n",
        "        \n",
        "        tailleMax1 = len(max(NORMALredt[0], key = lambda i: len(i)))\n",
        "        tailleMax2 = len(max(LBB[0], key = lambda i: len(i)))\n",
        "        tailleMax3 = len(max(RBB[0], key = lambda i: len(i)))\n",
        "        tailleMax4 = len(max(APC[0], key = lambda i: len(i)))\n",
        "        tailleMax5 = len(max(PVC[0], key = lambda i: len(i)))\n",
        "        tailleMax6 = len(max(VEB[0], key = lambda i: len(i)))\n",
        "        tailleMax7 = len(max(PAB[0], key = lambda i: len(i)))\n",
        "\n",
        "        global tailleMax\n",
        "        tailleMax = np.max([tailleMax1,tailleMax2,tailleMax3,tailleMax4,tailleMax5,tailleMax6,tailleMax7])\n",
        "\n",
        "        \n",
        "        NORMALPAD = padding(NORMALredt,tailleMax)\n",
        "        LBBPAD = padding(LBB,tailleMax)\n",
        "        RBBPAD = padding(RBB,tailleMax)\n",
        "        APCPAD = padding(APC,tailleMax)\n",
        "        PVCPAD = padding(PVC,tailleMax)\n",
        "        VEBPAD = padding(VEB,tailleMax)\n",
        "        PABPAD = padding(PAB,tailleMax)\n",
        "\n",
        "        \n",
        "        #VFW = segmentation(ventricularFlutterWave)\n",
        "        \n",
        " \n",
        "        \n",
        "        NORMALLabel = ['Normal']*len(NORMALPAD[0])\n",
        "        LBBLabel = ['LBB']*len(LBBPAD[0])\n",
        "        RBBLabel = ['RBB']*len(RBBPAD[0])\n",
        "        APCLabel = ['APC']*len(APCPAD[0])\n",
        "        PVCLabel = ['PVC']*len(PVCPAD[0])\n",
        "        VEBLabel = ['VEB']*len(VEBPAD[0])\n",
        "        PABLabel = ['PAB']*len(PABPAD[0])\n",
        "       # VFWLabel = ['VFW']*len(VFW[0])\n",
        "\n",
        "       \n",
        "                \n",
        "        \n",
        "        \n",
        "        self.Labels =np.array(NORMALLabel + LBBLabel + RBBLabel + APCLabel + PVCLabel + VEBLabel + PABLabel )\n",
        "        self.Signals =  np.concatenate((NORMALPAD, LBBPAD, RBBPAD, APCPAD, PVCPAD, VEBPAD, PABPAD),axis = 1)\n",
        "\n",
        "        \n",
        "        \n",
        "        \n",
        "        \n",
        "    def __len__(self):\n",
        "        return len(self.Signals[0])\n",
        "\n",
        "    def __getitem__(self, idx):\n",
        "\n",
        "        sample = {'Signals': self.Signals[:,idx], 'Label': self.Labels[idx]}\n",
        "\n",
        "        return sample\n",
        "    \n",
        "    \n",
        "    "
      ],
      "execution_count": 0,
      "outputs": []
    },
    {
      "cell_type": "code",
      "metadata": {
        "id": "TozlB1kLtnDd",
        "colab_type": "code",
        "colab": {}
      },
      "source": [
        "#debug de ECGDataset\n",
        "\n",
        "tailleMax2 = len(max(LBB[0], key = lambda i: len(i)))\n",
        "tailleMax2\n",
        "\n",
        "LBBPAD = padding(LBB,tailleMax2)\n",
        "\n",
        "plt.plot(LBBPAD[0][0])\n",
        "plt.plot(LBBPAD[1][0])\n",
        "plt.show()\n"
      ],
      "execution_count": 0,
      "outputs": []
    },
    {
      "cell_type": "code",
      "metadata": {
        "id": "Oa1gC3HUONPb",
        "colab_type": "code",
        "colab": {}
      },
      "source": [
        "DS = ECGDataset(Dir = directory)\n"
      ],
      "execution_count": 0,
      "outputs": []
    },
    {
      "cell_type": "code",
      "metadata": {
        "id": "-mc3NDHQx43V",
        "colab_type": "code",
        "colab": {}
      },
      "source": [
        "def egalisationTailles(DS):\n",
        "  for sample in DS:\n",
        "\n",
        "    if len(sample['Signals'][0]) > tailleMax-1:\n",
        "      sample['Signals'][0] = np.delete(sample['Signals'][0], tailleMax-1)\n",
        "      sample['Signals'][1] = np.delete(sample['Signals'][1], tailleMax-1)\n",
        "\n",
        "    \n",
        "egalisationTailles(DS)    "
      ],
      "execution_count": 0,
      "outputs": []
    },
    {
      "cell_type": "code",
      "metadata": {
        "id": "4U9J0wYzmasO",
        "colab_type": "code",
        "colab": {}
      },
      "source": [
        "#debug d'egalisationTailles\n",
        "\n",
        "tailles = []\n",
        "\n",
        "for sample in DS:\n",
        "    \n",
        "  \n",
        "    tailles.append(len(sample['Signals'][0]))\n",
        "        \n",
        "tailleMax = np.max(tailles)\n",
        "indexMax = np.argmax(tailles)\n",
        "\n",
        "tailles"
      ],
      "execution_count": 0,
      "outputs": []
    },
    {
      "cell_type": "code",
      "metadata": {
        "id": "8wrsvVI0ONPq",
        "colab_type": "code",
        "outputId": "a203caa6-e199-47f3-a264-942aa2cd1af9",
        "colab": {
          "base_uri": "https://localhost:8080/",
          "height": 814
        }
      },
      "source": [
        "#test d'affichages \n",
        "#affichages de test\n",
        "sample1 = DS[4]\n",
        "sample2 = DS[12000]\n",
        "sample3 = DS[25000]\n",
        "sample = DS[0]\n",
        "plt.plot(sample1['Signals'][0])\n",
        "plt.plot(sample1['Signals'][1])\n",
        "plt.show()\n",
        "print(sample1['Label'])\n",
        "\n",
        "\n",
        "plt.plot(sample2['Signals'][0])\n",
        "plt.plot(sample2['Signals'][1])\n",
        "plt.show()\n",
        "print(sample2['Label'])\n",
        "\n",
        "plt.plot(sample3['Signals'][0])\n",
        "plt.plot(sample3['Signals'][1])\n",
        "plt.show()\n",
        "print(sample3['Label'])"
      ],
      "execution_count": 26,
      "outputs": [
        {
          "output_type": "display_data",
          "data": {
            "image/png": "[encoded data removed]",
            "text/plain": [
              "<Figure size 432x288 with 1 Axes>"
            ]
          },
          "metadata": {
            "tags": []
          }
        },
        {
          "output_type": "stream",
          "text": [
            "Normal\n"
          ],
          "name": "stdout"
        },
        {
          "output_type": "display_data",
          "data": {
            "image/png": "[encoded data removed]",
            "text/plain": [
              "<Figure size 432x288 with 1 Axes>"
            ]
          },
          "metadata": {
            "tags": []
          }
        },
        {
          "output_type": "stream",
          "text": [
            "LBB\n"
          ],
          "name": "stdout"
        },
        {
          "output_type": "display_data",
          "data": {
            "image/png": "[encoded data removed]",
            "text/plain": [
              "<Figure size 432x288 with 1 Axes>"
            ]
          },
          "metadata": {
            "tags": []
          }
        },
        {
          "output_type": "stream",
          "text": [
            "RBB\n"
          ],
          "name": "stdout"
        }
      ]
    },
    {
      "cell_type": "code",
      "metadata": {
        "id": "JoCbmaE8ONPt",
        "colab_type": "code",
        "colab": {}
      },
      "source": [
        "#Ne pas utiliser\n",
        "def normalize(DS):\n",
        "    for sample in DS:\n",
        "        sample['Signals'][0] = sample['Signals'][0][int(len(sample['Signals'][0]) /2)-100:int(len(sample['Signals'][0]) /2)+100]\n",
        "        sample['Signals'][1] = sample['Signals'][1][int(len(sample['Signals'][1]) /2)-100:int(len(sample['Signals'][1]) /2)+100]\n",
        "        #print(len(sample['Signals'][0]))\n",
        "    return DS\n",
        "\n",
        "#DS = normalize(DS)"
      ],
      "execution_count": 0,
      "outputs": []
    },
    {
      "cell_type": "code",
      "metadata": {
        "id": "UlX_gZktONPu",
        "colab_type": "code",
        "colab": {}
      },
      "source": [
        "\n",
        "sample = DS[40000]\n",
        "plt.plot(sample['Signals'][0])\n",
        "plt.plot(sample['Signals'][1])\n",
        "sample['Label']"
      ],
      "execution_count": 0,
      "outputs": []
    },
    {
      "cell_type": "code",
      "metadata": {
        "id": "TsfL9-HtONPv",
        "colab_type": "code",
        "colab": {}
      },
      "source": [
        "class subDataSet(Dataset):\n",
        "    def __init__(self, sampleList):\n",
        "        \n",
        "        \n",
        "\n",
        "        self.samples = sampleList\n",
        "\n",
        " \n",
        "\n",
        "    def __len__(self):\n",
        "        return len(self.samples)\n",
        "\n",
        "    def __getitem__(self, idx):\n",
        "\n",
        "        sample = {'Signals': self.samples['Signals'][idx], 'Label': self.samples['Label'][idx]}\n",
        "\n",
        "        return sample\n",
        "    "
      ],
      "execution_count": 0,
      "outputs": []
    },
    {
      "cell_type": "code",
      "metadata": {
        "id": "ND5VFIZyONPx",
        "colab_type": "code",
        "colab": {}
      },
      "source": [
        "def createSubDataSets(trainproportion,totalDataSet):\n",
        "    train = []\n",
        "    test = []\n",
        "    for sample in DS:\n",
        "        rand = rd.random()\n",
        "        if (rand < trainproportion):\n",
        "            train.append(sample)\n",
        "        else:\n",
        "            test.append(sample)\n",
        "    trainSet = subDataSet(train)\n",
        "    testSet = subDataSet(test)\n",
        "    return trainSet, testSet\n",
        "\n",
        "    "
      ],
      "execution_count": 0,
      "outputs": []
    },
    {
      "cell_type": "code",
      "metadata": {
        "id": "YHKpEmbBONPy",
        "colab_type": "code",
        "colab": {}
      },
      "source": [
        "trainSet, testSet = createSubDataSets(0.70, DS)"
      ],
      "execution_count": 0,
      "outputs": []
    },
    {
      "cell_type": "code",
      "metadata": {
        "id": "dIoUm8qdONP0",
        "colab_type": "code",
        "colab": {}
      },
      "source": [
        "len(trainSet), len(testSet) , len(DS)\n",
        "#plt.plot(sample['Signals'][0])\n",
        "#plt.plot(sample['Signals'][1])\n",
        "#sample['Label']"
      ],
      "execution_count": 0,
      "outputs": []
    },
    {
      "cell_type": "code",
      "metadata": {
        "id": "ZG_EtLzwONP2",
        "colab_type": "code",
        "colab": {}
      },
      "source": [
        "# Transformation en image\n",
        "\n",
        "\n",
        "def signals2Images(DS,label):\n",
        "    \n",
        "   \n",
        "    count = 0\n",
        "\n",
        "    for sample in DS:\n",
        "      if sample['Label'] == label:\n",
        "        fig = plt.figure(frameon=False) \n",
        "        plt.plot(sample['Signals'][0])\n",
        "        plt.plot(sample['Signals'][1])\n",
        "        plt.xticks([]), plt.yticks([])\n",
        "        for spine in plt.gca().spines.values():\n",
        "            spine.set_visible(False)\n",
        "        \n",
        "                 \n",
        "        filename = 'pfeECG/images' + '/' + label + '/' + str(count)+'.png'\n",
        "        fig.savefig(filename)\n",
        "        im_gray = cv2.imread(filename, cv2.IMREAD_GRAYSCALE)\n",
        "        im_gray = cv2.resize(im_gray, (128, 128), interpolation = cv2.INTER_LANCZOS4)\n",
        "        cv2.imwrite(filename, im_gray)\n",
        "        count = count + 1\n",
        "        print(count)\n",
        "        plt.close()\n",
        "        \n",
        "        \n",
        "\n"
      ],
      "execution_count": 0,
      "outputs": []
    },
    {
      "cell_type": "code",
      "metadata": {
        "id": "bPLM-bTDyLAt",
        "colab_type": "code",
        "colab": {}
      },
      "source": [
        "gc.collect()"
      ],
      "execution_count": 0,
      "outputs": []
    },
    {
      "cell_type": "code",
      "metadata": {
        "id": "ErBR49647Tms",
        "colab_type": "code",
        "colab": {}
      },
      "source": [
        "path = \"pfeECG/images/\" + 'LBB'\n",
        "os.makedirs(path)\n",
        "signals2Images(DS,'LBB')\n",
        "gc.collect()"
      ],
      "execution_count": 0,
      "outputs": []
    },
    {
      "cell_type": "code",
      "metadata": {
        "id": "jGPm_KZK7Vw3",
        "colab_type": "code",
        "colab": {}
      },
      "source": [
        "path = \"pfeECG/images/\" + 'RBB'\n",
        "os.makedirs(path)\n",
        "signals2Images(DS,'RBB')\n",
        "gc.collect()"
      ],
      "execution_count": 0,
      "outputs": []
    },
    {
      "cell_type": "code",
      "metadata": {
        "id": "QPBoip3Y7Xe0",
        "colab_type": "code",
        "colab": {}
      },
      "source": [
        "path = \"pfeECG/images/\" + 'APC'\n",
        "os.makedirs(path)\n",
        "signals2Images(DS,'APC')\n",
        "gc.collect()"
      ],
      "execution_count": 0,
      "outputs": []
    },
    {
      "cell_type": "code",
      "metadata": {
        "id": "tqap0Lnq7ZwH",
        "colab_type": "code",
        "colab": {}
      },
      "source": [
        "path = \"pfeECG/images/\" + 'PVC'\n",
        "os.makedirs(path)\n",
        "signals2Images(DS,'PVC')\n",
        "gc.collect()"
      ],
      "execution_count": 0,
      "outputs": []
    },
    {
      "cell_type": "code",
      "metadata": {
        "id": "DBIBIiDh7b6A",
        "colab_type": "code",
        "colab": {}
      },
      "source": [
        "path = \"pfeECG/images/\" + 'VEB'\n",
        "os.makedirs(path)\n",
        "signals2Images(DS,'VEB')\n",
        "gc.collect()"
      ],
      "execution_count": 0,
      "outputs": []
    },
    {
      "cell_type": "code",
      "metadata": {
        "id": "hIEDDZfY7fu4",
        "colab_type": "code",
        "colab": {}
      },
      "source": [
        "path = \"pfeECG/images/\" + 'PAB'\n",
        "os.makedirs(path)\n",
        "signals2Images(DS,'PAB')\n",
        "gc.collect()"
      ],
      "execution_count": 0,
      "outputs": []
    },
    {
      "cell_type": "code",
      "metadata": {
        "id": "c08rxsHH7oim",
        "colab_type": "code",
        "colab": {}
      },
      "source": [
        "path = \"pfeECG/images/\" + 'Normal'\n",
        "os.makedirs(path)\n",
        "signals2Images(DS,'Normal')\n",
        "gc.collect()"
      ],
      "execution_count": 0,
      "outputs": []
    },
    {
      "cell_type": "code",
      "metadata": {
        "id": "OAdI0qHQ5UzW",
        "colab_type": "code",
        "colab": {}
      },
      "source": [
        "!zip -r /content/pfeECG/normalDatabase.zip /content/pfeECG/images/Normal"
      ],
      "execution_count": 0,
      "outputs": []
    },
    {
      "cell_type": "code",
      "metadata": {
        "id": "luMTrMYv6bOJ",
        "colab_type": "code",
        "colab": {}
      },
      "source": [
        "from google.colab import files\n",
        "files.download(\"/content/pfeECG/normalDatabase.zip\")"
      ],
      "execution_count": 0,
      "outputs": []
    }
  ]
}