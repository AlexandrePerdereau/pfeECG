{
  "nbformat": 4,
  "nbformat_minor": 0,
  "metadata": {
    "kernelspec": {
      "name": "python3",
      "display_name": "Python 3"
    },
    "language_info": {
      "codemirror_mode": {
        "name": "ipython",
        "version": 3
      },
      "file_extension": ".py",
      "mimetype": "text/x-python",
      "name": "python",
      "nbconvert_exporter": "python",
      "pygments_lexer": "ipython3",
      "version": "3.7.1"
    },
    "colab": {
      "name": "PFE.ipynb",
      "provenance": [],
      "collapsed_sections": []
    },
    "accelerator": "GPU"
  },
  "cells": [
    {
      "cell_type": "code",
      "metadata": {
        "id": "PJw9g1qVONO7",
        "colab_type": "code",
        "outputId": "cc2ab74a-269b-4622-a96d-194c91949bda",
        "colab": {
          "base_uri": "https://localhost:8080/",
          "height": 574
        }
      },
      "source": [
        "\n",
        "from IPython.display import display\n",
        "import matplotlib.pyplot as plt\n",
        "import numpy as np\n",
        "import os\n",
        "import shutil\n",
        "import torch\n",
        "from torch.utils.data import Dataset, DataLoader\n",
        "import random as rd\n",
        "import cv2\n",
        "import gc\n",
        "import random\n",
        "\n",
        "\n",
        "!pip install wfdb\n",
        "import wfdb"
      ],
      "execution_count": 2,
      "outputs": [
        {
          "output_type": "stream",
          "text": [
            "Collecting wfdb\n",
            "\u001b[?25l  Downloading https://files.pythonhosted.org/packages/b2/96/c2200539fdf4f087e14d30ed62a66544b6f441196bcb8ecc7a29ec6503b9/wfdb-2.2.1.tar.gz (94kB)\n",
            "\u001b[K     |████████████████████████████████| 102kB 10.9MB/s \n",
            "\u001b[?25hCollecting nose>=1.3.7\n",
            "\u001b[?25l  Downloading https://files.pythonhosted.org/packages/15/d8/dd071918c040f50fa1cf80da16423af51ff8ce4a0f2399b7bf8de45ac3d9/nose-1.3.7-py3-none-any.whl (154kB)\n",
            "\u001b[K     |████████████████████████████████| 163kB 39.7MB/s \n",
            "\u001b[?25hRequirement already satisfied: numpy>=1.11.0 in /usr/local/lib/python3.6/dist-packages (from wfdb) (1.17.4)\n",
            "Requirement already satisfied: matplotlib>=1.5.1 in /usr/local/lib/python3.6/dist-packages (from wfdb) (3.1.1)\n",
            "Requirement already satisfied: requests>=2.10.0 in /usr/local/lib/python3.6/dist-packages (from wfdb) (2.21.0)\n",
            "Requirement already satisfied: pandas>=0.19.1 in /usr/local/lib/python3.6/dist-packages (from wfdb) (0.25.3)\n",
            "Requirement already satisfied: scipy>=0.19.0 in /usr/local/lib/python3.6/dist-packages (from wfdb) (1.3.2)\n",
            "Requirement already satisfied: sklearn>=0.0 in /usr/local/lib/python3.6/dist-packages (from wfdb) (0.0)\n",
            "Requirement already satisfied: python-dateutil>=2.1 in /usr/local/lib/python3.6/dist-packages (from matplotlib>=1.5.1->wfdb) (2.6.1)\n",
            "Requirement already satisfied: pyparsing!=2.0.4,!=2.1.2,!=2.1.6,>=2.0.1 in /usr/local/lib/python3.6/dist-packages (from matplotlib>=1.5.1->wfdb) (2.4.5)\n",
            "Requirement already satisfied: cycler>=0.10 in /usr/local/lib/python3.6/dist-packages (from matplotlib>=1.5.1->wfdb) (0.10.0)\n",
            "Requirement already satisfied: kiwisolver>=1.0.1 in /usr/local/lib/python3.6/dist-packages (from matplotlib>=1.5.1->wfdb) (1.1.0)\n",
            "Requirement already satisfied: certifi>=2017.4.17 in /usr/local/lib/python3.6/dist-packages (from requests>=2.10.0->wfdb) (2019.9.11)\n",
            "Requirement already satisfied: idna<2.9,>=2.5 in /usr/local/lib/python3.6/dist-packages (from requests>=2.10.0->wfdb) (2.8)\n",
            "Requirement already satisfied: chardet<3.1.0,>=3.0.2 in /usr/local/lib/python3.6/dist-packages (from requests>=2.10.0->wfdb) (3.0.4)\n",
            "Requirement already satisfied: urllib3<1.25,>=1.21.1 in /usr/local/lib/python3.6/dist-packages (from requests>=2.10.0->wfdb) (1.24.3)\n",
            "Requirement already satisfied: pytz>=2017.2 in /usr/local/lib/python3.6/dist-packages (from pandas>=0.19.1->wfdb) (2018.9)\n",
            "Requirement already satisfied: scikit-learn in /usr/local/lib/python3.6/dist-packages (from sklearn>=0.0->wfdb) (0.21.3)\n",
            "Requirement already satisfied: six>=1.5 in /usr/local/lib/python3.6/dist-packages (from python-dateutil>=2.1->matplotlib>=1.5.1->wfdb) (1.12.0)\n",
            "Requirement already satisfied: setuptools in /usr/local/lib/python3.6/dist-packages (from kiwisolver>=1.0.1->matplotlib>=1.5.1->wfdb) (41.6.0)\n",
            "Requirement already satisfied: joblib>=0.11 in /usr/local/lib/python3.6/dist-packages (from scikit-learn->sklearn>=0.0->wfdb) (0.14.0)\n",
            "Building wheels for collected packages: wfdb\n",
            "  Building wheel for wfdb (setup.py) ... \u001b[?25l\u001b[?25hdone\n",
            "  Created wheel for wfdb: filename=wfdb-2.2.1-cp36-none-any.whl size=100368 sha256=f9be9c7a731fc618bb8e536f8df498c7d66a7c1f6ad0a2b2f1859d48cf9ffc24\n",
            "  Stored in directory: /root/.cache/pip/wheels/bb/a9/00/0078d26b0c15b31be0001af8eb659496709c361c69641303f1\n",
            "Successfully built wfdb\n",
            "Installing collected packages: nose, wfdb\n",
            "Successfully installed nose-1.3.7 wfdb-2.2.1\n"
          ],
          "name": "stdout"
        }
      ]
    },
    {
      "cell_type": "code",
      "metadata": {
        "id": "iPKBPyRePGjk",
        "colab_type": "code",
        "outputId": "df37668f-5d4b-4601-e525-be65f818cfa3",
        "colab": {
          "base_uri": "https://localhost:8080/",
          "height": 134
        }
      },
      "source": [
        "!git clone https://github.com/AlexandrePerdereau/pfeECG.git"
      ],
      "execution_count": 3,
      "outputs": [
        {
          "output_type": "stream",
          "text": [
            "Cloning into 'pfeECG'...\n",
            "remote: Enumerating objects: 19, done.\u001b[K\n",
            "remote: Counting objects: 100% (19/19), done.\u001b[K\n",
            "remote: Compressing objects: 100% (15/15), done.\u001b[K\n",
            "remote: Total 737 (delta 7), reused 16 (delta 4), pack-reused 718\u001b[K\n",
            "Receiving objects: 100% (737/737), 74.92 MiB | 11.28 MiB/s, done.\n",
            "Resolving deltas: 100% (12/12), done.\n"
          ],
          "name": "stdout"
        }
      ]
    },
    {
      "cell_type": "code",
      "metadata": {
        "id": "YhU2lDliONO_",
        "colab_type": "code",
        "colab": {}
      },
      "source": [
        "directory = 'pfeECG/mit-bih-arrhythmia-database-1.0.0/'\n",
        "file = open(directory + 'RECORDS')\n",
        "records = file.readlines()\n",
        "file.close()"
      ],
      "execution_count": 0,
      "outputs": []
    },
    {
      "cell_type": "code",
      "metadata": {
        "id": "X8AiL5NBONPB",
        "colab_type": "code",
        "outputId": "0f8b9bb0-a505-47b9-9ee2-67628488a4fb",
        "colab": {
          "base_uri": "https://localhost:8080/",
          "height": 706
        }
      },
      "source": [
        "wfdb.show_ann_labels()"
      ],
      "execution_count": 5,
      "outputs": [
        {
          "output_type": "stream",
          "text": [
            "    label_store symbol                                    description\n",
            "0             0                              Not an actual annotation\n",
            "1             1      N                                    Normal beat\n",
            "2             2      L                  Left bundle branch block beat\n",
            "3             3      R                 Right bundle branch block beat\n",
            "4             4      a                Aberrated atrial premature beat\n",
            "5             5      V              Premature ventricular contraction\n",
            "6             6      F          Fusion of ventricular and normal beat\n",
            "7             7      J              Nodal (junctional) premature beat\n",
            "8             8      A                   Atrial premature contraction\n",
            "9             9      S     Premature or ectopic supraventricular beat\n",
            "10           10      E                        Ventricular escape beat\n",
            "11           11      j                 Nodal (junctional) escape beat\n",
            "12           12      /                                     Paced beat\n",
            "13           13      Q                            Unclassifiable beat\n",
            "14           14      ~                          Signal quality change\n",
            "16           16      |                     Isolated QRS-like artifact\n",
            "18           18      s                                      ST change\n",
            "19           19      T                                  T-wave change\n",
            "20           20      *                                        Systole\n",
            "21           21      D                                       Diastole\n",
            "22           22      \"                             Comment annotation\n",
            "23           23      =                         Measurement annotation\n",
            "24           24      p                                    P-wave peak\n",
            "25           25      B              Left or right bundle branch block\n",
            "26           26      ^                      Non-conducted pacer spike\n",
            "27           27      t                                    T-wave peak\n",
            "28           28      +                                  Rhythm change\n",
            "29           29      u                                    U-wave peak\n",
            "30           30      ?                                       Learning\n",
            "31           31      !                       Ventricular flutter wave\n",
            "32           32      [      Start of ventricular flutter/fibrillation\n",
            "33           33      ]        End of ventricular flutter/fibrillation\n",
            "34           34      e                             Atrial escape beat\n",
            "35           35      n                   Supraventricular escape beat\n",
            "36           36      @  Link to external data (aux_note contains URL)\n",
            "37           37      x             Non-conducted P-wave (blocked APB)\n",
            "38           38      f                Fusion of paced and normal beat\n",
            "39           39      (                                 Waveform onset\n",
            "40           40      )                                   Waveform end\n",
            "41           41      r       R-on-T premature ventricular contraction\n"
          ],
          "name": "stdout"
        }
      ]
    },
    {
      "cell_type": "code",
      "metadata": {
        "id": "jTduoWoCONPE",
        "colab_type": "code",
        "colab": {}
      },
      "source": [
        "good = ['N']\n",
        "leftBundleBlocks = ['L']\n",
        "rightBundleBlocks = ['R']\n",
        "atrialContraction = ['A']\n",
        "ventricularContraction = ['V']\n",
        "paced = ['/']\n",
        "ventricularEscape = ['E']\n",
        "ventricularFlutterWave = ['!']"
      ],
      "execution_count": 0,
      "outputs": []
    },
    {
      "cell_type": "code",
      "metadata": {
        "id": "NPwAfJQ3ONPF",
        "colab_type": "code",
        "colab": {}
      },
      "source": [
        "def segmentation(typeBeat):\n",
        "\n",
        "    liste1,liste2 = [],[]\n",
        "\n",
        "    for e in records:\n",
        "        signals, fields = wfdb.rdsamp(directory + e[0:-1]) \n",
        "\n",
        "        ann = wfdb.rdann(directory + e[0:-1], 'atr')\n",
        "       \n",
        "        ids = np.in1d(ann.symbol, typeBeat)\n",
        "        imp_beats = ann.sample[ids]\n",
        "        beats = (ann.sample)\n",
        "        for i in imp_beats:\n",
        "            beats = list(beats)\n",
        "            j = beats.index(i)\n",
        "            if(j!=0 and j!=(len(beats)-1)):\n",
        "                x = beats[j-1]\n",
        "                y = beats[j+1]\n",
        "                diff1 = abs(x - beats[j])//2\n",
        "                diff2 = abs(y - beats[j])//2\n",
        "                signal0 = signals[beats[j] - diff1: beats[j] + diff2, 0]\n",
        "                signal1 = signals[beats[j] - diff1: beats[j] + diff2, 1]\n",
        "                \n",
        "                #indMax = signal0.index(np.max(np.abs(signal0)))\n",
        "                indMax = np.where(np.abs(signal0) == np.max(np.abs(signal0)))\n",
        "                indMid = int(len(signal0)//2)\n",
        "                shift = indMax[0] - indMid\n",
        "                \n",
        "                signal0 = np.roll(signal0, -shift)\n",
        "                signal1 = np.roll(signal1, -shift)\n",
        "                \n",
        "                \n",
        "                if (len(signal0) < 501):\n",
        "                    signal0Pad = padding(signal0,500)\n",
        "                    signal1Pad= padding(signal1,500)\n",
        "                else:\n",
        "                    signal0Pad = signal0\n",
        "                    signal1Pad = signal1\n",
        "                #print(shift)\n",
        "                #if shift > 0:\n",
        "                 #   signal0 = np.roll(signal0, -shift)\n",
        "                #elif shift < 0:\n",
        "                 #   signal0 = np.roll(signal0, -shift)\n",
        "                \n",
        "                liste1.append(signal0Pad)\n",
        "                liste2.append(signal1Pad)\n",
        "\n",
        "    #liste1 = liste1[1:] \n",
        "    #liste2 = liste2[1:]\n",
        "    return liste1,liste2"
      ],
      "execution_count": 0,
      "outputs": []
    },
    {
      "cell_type": "code",
      "metadata": {
        "id": "vyPthmR5ONPH",
        "colab_type": "code",
        "colab": {}
      },
      "source": [
        "def padding(signal0,lmax):\n",
        "    length = len(signal0)\n",
        "    shift = (lmax - length)//2\n",
        "    signalPadded = np.pad(signal0, (shift, shift), 'constant')\n",
        "    return signalPadded"
      ],
      "execution_count": 0,
      "outputs": []
    },
    {
      "cell_type": "code",
      "metadata": {
        "id": "SKlhCoPWONPZ",
        "colab_type": "code",
        "colab": {}
      },
      "source": [
        "class ECGDataset(Dataset):\n",
        "\n",
        "    def __init__(self, Dir):\n",
        "        \n",
        "        file = open(Dir+'RECORDS')\n",
        "        records = file.readlines()\n",
        "        file.close()\n",
        "        \n",
        "        good = ['N']\n",
        "        leftBundleBlocks = ['L']\n",
        "        rightBundleBlocks = ['R']\n",
        "        atrialContraction = ['A']\n",
        "        ventricularContraction = ['V']\n",
        "        paced = ['/']\n",
        "        ventricularEscape = ['E']\n",
        "       # ventricularFlutterWave = ['!']\n",
        "        \n",
        "        NORMAL = segmentation(good)\n",
        "        random.shuffle(NORMAL[0])\n",
        "        random.shuffle(NORMAL[1])\n",
        "        normal0 = NORMAL[0][0:10000]\n",
        "        normal1 = NORMAL[1][0:10000]\n",
        "        NORMAL = (normal0,normal1)\n",
        "        LBB = segmentation(leftBundleBlocks)\n",
        "        RBB = segmentation(rightBundleBlocks)\n",
        "        APC = segmentation(atrialContraction)\n",
        "        PVC = segmentation(ventricularContraction)\n",
        "        VEB = segmentation(ventricularEscape)\n",
        "        PAB = segmentation(paced)\n",
        "        #VFW = segmentation(ventricularFlutterWave)\n",
        "        \n",
        "        \n",
        "        NORMALLabel = ['Normal']*len(NORMAL[0])\n",
        "        LBBLabel = ['LBB']*len(LBB[0])\n",
        "        RBBLabel = ['RBB']*len(RBB[0])\n",
        "        APCLabel = ['APC']*len(APC[0])\n",
        "        PVCLabel = ['PVC']*len(PVC[0])\n",
        "        VEBLabel = ['VEB']*len(VEB[0])\n",
        "        PABLabel = ['PAB']*len(PAB[0])\n",
        "       # VFWLabel = ['VFW']*len(VFW[0])\n",
        "\n",
        "        self.Labels =np.array(NORMALLabel + LBBLabel + RBBLabel + APCLabel + PVCLabel + VEBLabel + PABLabel )\n",
        "        self.Signals =  np.concatenate((NORMAL, LBB, RBB, APC, PVC, VEB, PAB),axis = 1)\n",
        "\n",
        "        \n",
        "        \n",
        "        \n",
        "        \n",
        "\n",
        "    def __len__(self):\n",
        "        return len(self.Signals[0])\n",
        "\n",
        "    def __getitem__(self, idx):\n",
        "\n",
        "        sample = {'Signals': self.Signals[:,idx], 'Label': self.Labels[idx]}\n",
        "\n",
        "        return sample\n",
        "    \n",
        "    \n",
        "    "
      ],
      "execution_count": 0,
      "outputs": []
    },
    {
      "cell_type": "code",
      "metadata": {
        "id": "Oa1gC3HUONPb",
        "colab_type": "code",
        "colab": {}
      },
      "source": [
        "DS = ECGDataset(Dir = directory)\n",
        "sample = DS[0]"
      ],
      "execution_count": 0,
      "outputs": []
    },
    {
      "cell_type": "code",
      "metadata": {
        "id": "DDgE369gONPc",
        "colab_type": "code",
        "colab": {
          "base_uri": "https://localhost:8080/",
          "height": 34
        },
        "outputId": "802cf235-1df3-4b73-9b0e-af2d498f9379"
      },
      "source": [
        "len(DS)"
      ],
      "execution_count": 11,
      "outputs": [
        {
          "output_type": "execute_result",
          "data": {
            "text/plain": [
              "42132"
            ]
          },
          "metadata": {
            "tags": []
          },
          "execution_count": 11
        }
      ]
    },
    {
      "cell_type": "code",
      "metadata": {
        "id": "mxLWINDPONPj",
        "colab_type": "code",
        "colab": {}
      },
      "source": [
        "tailles = []\n",
        "for sample in DS:\n",
        "    longueur = len(sample['Signals'][0])\n",
        "    \n",
        "    if not np.any(tailles == longueur) and longueur <= 1000:\n",
        "        tailles.append(longueur)\n",
        "        \n",
        "tailleMax = np.max(tailles)\n",
        "indexMax = np.argmax(tailles)\n",
        "    "
      ],
      "execution_count": 0,
      "outputs": []
    },
    {
      "cell_type": "code",
      "metadata": {
        "id": "8wrsvVI0ONPq",
        "colab_type": "code",
        "outputId": "fcce2862-ee89-437e-d3b7-bee44f7aac77",
        "colab": {
          "base_uri": "https://localhost:8080/",
          "height": 286
        }
      },
      "source": [
        "\n",
        "plt.plot(sample['Signals'][0])\n",
        "plt.plot(sample['Signals'][1])\n",
        "sample['Label']"
      ],
      "execution_count": 13,
      "outputs": [
        {
          "output_type": "execute_result",
          "data": {
            "text/plain": [
              "'PAB'"
            ]
          },
          "metadata": {
            "tags": []
          },
          "execution_count": 13
        },
        {
          "output_type": "display_data",
          "data": {
            "image/png": "[encoded data removed]",
            "text/plain": [
              "<Figure size 432x288 with 1 Axes>"
            ]
          },
          "metadata": {
            "tags": []
          }
        }
      ]
    },
    {
      "cell_type": "code",
      "metadata": {
        "id": "JoCbmaE8ONPt",
        "colab_type": "code",
        "colab": {}
      },
      "source": [
        "def normalize(DS):\n",
        "    for sample in DS:\n",
        "        sample['Signals'][0] = sample['Signals'][0][int(len(sample['Signals'][0]) /2)-100:int(len(sample['Signals'][0]) /2)+100]\n",
        "        sample['Signals'][1] = sample['Signals'][1][int(len(sample['Signals'][1]) /2)-100:int(len(sample['Signals'][1]) /2)+100]\n",
        "        #print(len(sample['Signals'][0]))\n",
        "    return DS\n",
        "\n",
        "DS = normalize(DS)"
      ],
      "execution_count": 0,
      "outputs": []
    },
    {
      "cell_type": "code",
      "metadata": {
        "id": "UlX_gZktONPu",
        "colab_type": "code",
        "outputId": "7725ab16-e637-4357-e08a-ca6b3e5c6975",
        "colab": {
          "base_uri": "https://localhost:8080/",
          "height": 282
        }
      },
      "source": [
        "\n",
        "sample = DS[10080]\n",
        "plt.plot(sample['Signals'][0])\n",
        "plt.plot(sample['Signals'][1])\n",
        "sample['Label']"
      ],
      "execution_count": 15,
      "outputs": [
        {
          "output_type": "execute_result",
          "data": {
            "text/plain": [
              "'LBB'"
            ]
          },
          "metadata": {
            "tags": []
          },
          "execution_count": 15
        },
        {
          "output_type": "display_data",
          "data": {
            "image/png": "[encoded data removed]",
            "text/plain": [
              "<Figure size 432x288 with 1 Axes>"
            ]
          },
          "metadata": {
            "tags": []
          }
        }
      ]
    },
    {
      "cell_type": "code",
      "metadata": {
        "id": "TsfL9-HtONPv",
        "colab_type": "code",
        "colab": {}
      },
      "source": [
        "class subDataSet(Dataset):\n",
        "    def __init__(self, sampleList):\n",
        "        \n",
        "        \n",
        "\n",
        "        self.samples = sampleList\n",
        "\n",
        " \n",
        "\n",
        "    def __len__(self):\n",
        "        return len(self.samples)\n",
        "\n",
        "    def __getitem__(self, idx):\n",
        "\n",
        "        sample = {'Signals': self.samples['Signals'][idx], 'Label': self.samples['Label'][idx]}\n",
        "\n",
        "        return sample\n",
        "    "
      ],
      "execution_count": 0,
      "outputs": []
    },
    {
      "cell_type": "code",
      "metadata": {
        "id": "ND5VFIZyONPx",
        "colab_type": "code",
        "colab": {}
      },
      "source": [
        "def createSubDataSets(trainproportion,totalDataSet):\n",
        "    train = []\n",
        "    test = []\n",
        "    for sample in DS:\n",
        "        rand = rd.random()\n",
        "        if (rand < trainproportion):\n",
        "            train.append(sample)\n",
        "        else:\n",
        "            test.append(sample)\n",
        "    trainSet = subDataSet(train)\n",
        "    testSet = subDataSet(test)\n",
        "    return trainSet, testSet\n",
        "\n",
        "    "
      ],
      "execution_count": 0,
      "outputs": []
    },
    {
      "cell_type": "code",
      "metadata": {
        "id": "YHKpEmbBONPy",
        "colab_type": "code",
        "colab": {}
      },
      "source": [
        "trainSet, testSet = createSubDataSets(0.70, DS)"
      ],
      "execution_count": 0,
      "outputs": []
    },
    {
      "cell_type": "code",
      "metadata": {
        "id": "dIoUm8qdONP0",
        "colab_type": "code",
        "outputId": "57950586-0306-45cf-ca87-dd757cdf3336",
        "colab": {
          "base_uri": "https://localhost:8080/",
          "height": 34
        }
      },
      "source": [
        "len(trainSet), len(testSet) , len(DS)\n",
        "#plt.plot(sample['Signals'][0])\n",
        "#plt.plot(sample['Signals'][1])\n",
        "#sample['Label']"
      ],
      "execution_count": 19,
      "outputs": [
        {
          "output_type": "execute_result",
          "data": {
            "text/plain": [
              "(29613, 12519, 42132)"
            ]
          },
          "metadata": {
            "tags": []
          },
          "execution_count": 19
        }
      ]
    },
    {
      "cell_type": "code",
      "metadata": {
        "id": "ZG_EtLzwONP2",
        "colab_type": "code",
        "colab": {}
      },
      "source": [
        "# Transformation en image\n",
        "\n",
        "\n",
        "def signals2Images(DS,label):\n",
        "    \n",
        "   \n",
        "    count = 0\n",
        "\n",
        "    for sample in DS:\n",
        "      if sample['Label'] == label:\n",
        "        fig = plt.figure(frameon=False) \n",
        "        plt.plot(sample['Signals'][0])\n",
        "        plt.plot(sample['Signals'][1])\n",
        "        plt.xticks([]), plt.yticks([])\n",
        "        for spine in plt.gca().spines.values():\n",
        "            spine.set_visible(False)\n",
        "        \n",
        "                 \n",
        "        filename = 'pfeECG/images' + '/' + label + '/' + str(count)+'.png'\n",
        "        fig.savefig(filename)\n",
        "        im_gray = cv2.imread(filename, cv2.IMREAD_GRAYSCALE)\n",
        "        im_gray = cv2.resize(im_gray, (128, 128), interpolation = cv2.INTER_LANCZOS4)\n",
        "        cv2.imwrite(filename, im_gray)\n",
        "        count = count + 1\n",
        "        print(count)\n",
        "        plt.close()\n",
        "        \n",
        "        \n",
        "path = \"pfeECG/images/\" + 'Normal'\n",
        "os.makedirs(path)\n",
        "signals2Images(DS,'Normal')\n",
        "gc.collect()\n",
        "path = \"pfeECG/images/\" + 'LBB'\n",
        "os.makedirs(path)\n",
        "signals2Images(DS,'LBB')\n",
        "gc.collect()\n",
        "path = \"pfeECG/images/\" + 'RBB'\n",
        "os.makedirs(path)\n",
        "signals2Images(DS,'RBB')\n",
        "gc.collect()\n",
        "path = \"pfeECG/images/\" + 'APC'\n",
        "os.makedirs(path)\n",
        "signals2Images(DS,'APC')\n",
        "gc.collect()\n",
        "path = \"pfeECG/images/\" + 'PVC'\n",
        "os.makedirs(path)\n",
        "signals2Images(DS,'PVC')\n",
        "gc.collect()\n",
        "path = \"pfeECG/images/\" + 'VEB'\n",
        "os.makedirs(path)\n",
        "signals2Images(DS,'VEB')\n",
        "gc.collect()\n",
        "path = \"pfeECG/images/\" + 'PAB'\n",
        "os.makedirs(path)\n",
        "signals2Images(DS,'PAB')\n",
        "gc.collect()\n",
        "\n",
        "        \n"
      ],
      "execution_count": 0,
      "outputs": []
    },
    {
      "cell_type": "code",
      "metadata": {
        "id": "bPLM-bTDyLAt",
        "colab_type": "code",
        "colab": {}
      },
      "source": [
        ""
      ],
      "execution_count": 0,
      "outputs": []
    },
    {
      "cell_type": "code",
      "metadata": {
        "id": "ErBR49647Tms",
        "colab_type": "code",
        "colab": {}
      },
      "source": [
        "path = \"pfeECG/images/\" + 'LBB'\n",
        "os.makedirs(path)\n",
        "signals2Images(DS,'LBB')"
      ],
      "execution_count": 0,
      "outputs": []
    },
    {
      "cell_type": "code",
      "metadata": {
        "id": "9_imoJ1-9dIB",
        "colab_type": "code",
        "colab": {
          "base_uri": "https://localhost:8080/",
          "height": 34
        },
        "outputId": "6831f778-b74c-4079-91a7-ce6cba31529a"
      },
      "source": [
        "gc.collect()"
      ],
      "execution_count": 22,
      "outputs": [
        {
          "output_type": "execute_result",
          "data": {
            "text/plain": [
              "13940835"
            ]
          },
          "metadata": {
            "tags": []
          },
          "execution_count": 22
        }
      ]
    },
    {
      "cell_type": "code",
      "metadata": {
        "id": "jGPm_KZK7Vw3",
        "colab_type": "code",
        "colab": {}
      },
      "source": [
        "path = \"pfeECG/images/\" + 'RBB'\n",
        "os.makedirs(path)\n",
        "signals2Images(DS,'RBB')"
      ],
      "execution_count": 0,
      "outputs": []
    },
    {
      "cell_type": "code",
      "metadata": {
        "id": "QPBoip3Y7Xe0",
        "colab_type": "code",
        "colab": {}
      },
      "source": [
        "path = \"pfeECG/images/\" + 'APC'\n",
        "os.makedirs(path)\n",
        "signals2Images(DS,'APC')"
      ],
      "execution_count": 0,
      "outputs": []
    },
    {
      "cell_type": "code",
      "metadata": {
        "id": "tqap0Lnq7ZwH",
        "colab_type": "code",
        "colab": {}
      },
      "source": [
        "path = \"pfeECG/images/\" + 'PVC'\n",
        "os.makedirs(path)\n",
        "signals2Images(DS,'PVC')"
      ],
      "execution_count": 0,
      "outputs": []
    },
    {
      "cell_type": "code",
      "metadata": {
        "id": "DBIBIiDh7b6A",
        "colab_type": "code",
        "colab": {}
      },
      "source": [
        "path = \"pfeECG/images/\" + 'VEB'\n",
        "os.makedirs(path)\n",
        "signals2Images(DS,'VEB')"
      ],
      "execution_count": 0,
      "outputs": []
    },
    {
      "cell_type": "code",
      "metadata": {
        "id": "hIEDDZfY7fu4",
        "colab_type": "code",
        "colab": {}
      },
      "source": [
        "path = \"pfeECG/images/\" + 'PAB'\n",
        "os.makedirs(path)\n",
        "signals2Images(DS,'PAB')"
      ],
      "execution_count": 0,
      "outputs": []
    },
    {
      "cell_type": "code",
      "metadata": {
        "id": "c08rxsHH7oim",
        "colab_type": "code",
        "colab": {}
      },
      "source": [
        "path = \"pfeECG/images/\" + 'Normal'\n",
        "os.makedirs(path)\n",
        "signals2Images(DS,'Normal')"
      ],
      "execution_count": 0,
      "outputs": []
    }
  ]
}